{
 "cells": [
  {
   "cell_type": "code",
   "execution_count": 21,
   "metadata": {},
   "outputs": [],
   "source": [
    "import pandas as pd\n",
    "data = pd.read_csv(\"../../data_man/data_pre.csv\")\n",
    "data = data.drop([\"Unnamed: 0\"], axis=1)\n",
    "data.head()\n",
    "from sklearn.model_selection import train_test_split\n",
    "X = data\n",
    "x, x_cv = train_test_split(X)\n",
    "x_train, x_test = train_test_split(x)\n",
    "X1, Y1 = data.drop([\"Survived\"], axis=1), data[\"Survived\"]\n",
    "x1, x_test1, y1, y_test1 = train_test_split(X1,Y1,test_size=0.2,train_size=0.8)\n",
    "x_train1, x_cv1, y_train1, y_cv1 = train_test_split(x1,y1,test_size = 0.25,train_size =0.75)"
   ]
  },
  {
   "cell_type": "code",
   "execution_count": 22,
   "metadata": {},
   "outputs": [],
   "source": [
    "from sklearn.neighbors import KNeighborsClassifier\n",
    "from sklearn.neighbors import KNeighborsTransformer\n",
    "from sklearn.decomposition import PCA\n",
    "from sklearn.feature_selection import SequentialFeatureSelector"
   ]
  },
  {
   "cell_type": "code",
   "execution_count": 23,
   "metadata": {},
   "outputs": [
    {
     "data": {
      "text/plain": [
       "<501x501 sparse matrix of type '<class 'numpy.float64'>'\n",
       "\twith 3006 stored elements in Compressed Sparse Row format>"
      ]
     },
     "execution_count": 23,
     "metadata": {},
     "output_type": "execute_result"
    }
   ],
   "source": [
    "knt = KNeighborsTransformer()\n",
    "knt.fit_transform(x_train)"
   ]
  },
  {
   "cell_type": "code",
   "execution_count": 24,
   "metadata": {},
   "outputs": [],
   "source": [
    "knn = KNeighborsClassifier()\n",
    "knn.fit(X1,Y1)\n",
    "pred_data = pd.read_csv(\"../../data_man/pred_data.csv\")\n",
    "pred_data = pred_data.drop([\"Unnamed: 0\"], axis=1)\n",
    "pred = knn.predict(pred_data)"
   ]
  },
  {
   "cell_type": "code",
   "execution_count": 25,
   "metadata": {},
   "outputs": [],
   "source": [
    "final = []\n",
    "pred_csv = pd.read_csv(\"../../data_man/predictions.csv\")\n",
    "pred_csv = pred_csv.drop([\"Unnamed: 0\"], axis=1)\n",
    "for i in range(len(list(pred))):\n",
    "    final.append(int(pred[i]))\n",
    "pred_csv.insert(1, \"Survived\", final, True)\n",
    "pred_csv.to_csv(\"pred.csv\",index=False)"
   ]
  }
 ],
 "metadata": {
  "kernelspec": {
   "display_name": "mltorch",
   "language": "python",
   "name": "python3"
  },
  "language_info": {
   "codemirror_mode": {
    "name": "ipython",
    "version": 3
   },
   "file_extension": ".py",
   "mimetype": "text/x-python",
   "name": "python",
   "nbconvert_exporter": "python",
   "pygments_lexer": "ipython3",
   "version": "3.12.3"
  }
 },
 "nbformat": 4,
 "nbformat_minor": 2
}
